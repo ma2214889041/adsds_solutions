{
 "cells": [
  {
   "cell_type": "markdown",
   "metadata": {},
   "source": [
    "## Sorting: Applications\n",
    "\n",
    "----"
   ]
  },
  {
   "cell_type": "code",
   "execution_count": 1,
   "metadata": {},
   "outputs": [],
   "source": [
    "## Define some function useful for testing\n",
    "import random\n",
    "\n",
    "## generate an array of n random integers up to b\n",
    "def get_random_array(n, b = 50):\n",
    "    return [random.randint(0, b) for _ in range(n)]"
   ]
  },
  {
   "cell_type": "markdown",
   "metadata": {},
   "source": [
    "## Priority queue in Python \n",
    "\n",
    "A **heap** is managed by using python’s inbuilt library named ```heapq```. This library has the relevant functions to carry out various operations on heap data structure. Below is a list of these functions.\n",
    "\n",
    "- ```heapify``` converts a regular list to a heap.\n",
    "- ```heappush```  adds an element to the heap without altering the current heap.\n",
    "- ```heappop``` returns (and removes) the smallest data element from the heap.\n",
    "\n",
    "A heap is not a Python's object. It's just a normal list.\n",
    "\n",
    "----\n",
    "\n",
    "\n",
    "### Create a Heap"
   ]
  },
  {
   "cell_type": "code",
   "execution_count": 2,
   "metadata": {},
   "outputs": [
    {
     "name": "stdout",
     "output_type": "stream",
     "text": [
      "[1, 3, 5, 78, 21, 45]\n"
     ]
    }
   ],
   "source": [
    "import heapq\n",
    "\n",
    "H = [21,1,45,78,3,5]\n",
    "\n",
    "# Use heapify to rearrange the elements\n",
    "heapq.heapify(H)\n",
    "print(H)"
   ]
  },
  {
   "cell_type": "markdown",
   "metadata": {},
   "source": [
    "### Inserting into a Heap"
   ]
  },
  {
   "cell_type": "code",
   "execution_count": 3,
   "metadata": {},
   "outputs": [
    {
     "name": "stdout",
     "output_type": "stream",
     "text": [
      "[1, 3, 5, 78, 21, 45]\n",
      "[0, 3, 1, 78, 21, 45, 5]\n"
     ]
    }
   ],
   "source": [
    "print(H)\n",
    "\n",
    "heapq.heappush(H, 0)\n",
    "\n",
    "print(H)"
   ]
  },
  {
   "cell_type": "code",
   "execution_count": 4,
   "metadata": {},
   "outputs": [
    {
     "name": "stdout",
     "output_type": "stream",
     "text": [
      "[0, 3, 1, 78, 21, -1, 5]\n",
      "0\n"
     ]
    }
   ],
   "source": [
    "H[5] = -1\n",
    "print(H)\n",
    "\n",
    "m = heapq.heappop(H)\n",
    "print(m)"
   ]
  },
  {
   "cell_type": "markdown",
   "metadata": {},
   "source": [
    "We could use ```heappush``` to build a heap. However, this is slower as shown by the test below. "
   ]
  },
  {
   "cell_type": "code",
   "execution_count": 5,
   "metadata": {},
   "outputs": [],
   "source": [
    "def my_heapify(H):\n",
    "    heap = []\n",
    "    for x in H:\n",
    "        heapq.heappush(heap, x)\n",
    "    return heap"
   ]
  },
  {
   "cell_type": "code",
   "execution_count": 6,
   "metadata": {},
   "outputs": [
    {
     "name": "stdout",
     "output_type": "stream",
     "text": [
      "50.5 µs ± 2.18 µs per loop (mean ± std. dev. of 7 runs, 10000 loops each)\n",
      "238 µs ± 13.9 µs per loop (mean ± std. dev. of 7 runs, 1000 loops each)\n"
     ]
    }
   ],
   "source": [
    "a = get_random_array(1000)\n",
    "H = a[:]\n",
    "\n",
    "%timeit heapq.heapify(H)\n",
    "%timeit my_heapify(a)"
   ]
  },
  {
   "cell_type": "markdown",
   "metadata": {},
   "source": [
    "### Removing from heap \n",
    "We can remove the smallest element from heap by using ```heappop```."
   ]
  },
  {
   "cell_type": "code",
   "execution_count": 7,
   "metadata": {},
   "outputs": [
    {
     "name": "stdout",
     "output_type": "stream",
     "text": [
      "[1, 3, 5, 78, 21, 45]\n",
      "1\n",
      "[3, 21, 5, 78, 45]\n"
     ]
    }
   ],
   "source": [
    "H = [21,1,45,78,3,5]\n",
    "\n",
    "# Use heapify to rearrange the elements\n",
    "heapq.heapify(H)\n",
    "\n",
    "\n",
    "print(H)\n",
    "m = heapq.heappop(H)\n",
    "print(m)\n",
    "print(H)"
   ]
  },
  {
   "cell_type": "code",
   "execution_count": 8,
   "metadata": {},
   "outputs": [
    {
     "name": "stdout",
     "output_type": "stream",
     "text": [
      "3\n"
     ]
    }
   ],
   "source": [
    "print(H[0])"
   ]
  },
  {
   "cell_type": "markdown",
   "metadata": {},
   "source": [
    "### MAX-heap?\n"
   ]
  },
  {
   "cell_type": "code",
   "execution_count": 9,
   "metadata": {},
   "outputs": [
    {
     "name": "stdout",
     "output_type": "stream",
     "text": [
      "[1, 3, 5, 78, 21, 45]\n",
      "[78, 21, 45, 1, 3, 5]\n"
     ]
    }
   ],
   "source": [
    "import heapq\n",
    "minH = [21,1,45,78,3,5]\n",
    "maxH = minH[:]\n",
    "\n",
    "heapq.heapify(minH)             # for a min heap\n",
    "print(minH)\n",
    "\n",
    "heapq._heapify_max(maxH)        # for a max heap!!\n",
    "print(maxH)"
   ]
  },
  {
   "cell_type": "markdown",
   "metadata": {},
   "source": [
    "If you then want to pop elements, use the following."
   ]
  },
  {
   "cell_type": "code",
   "execution_count": 10,
   "metadata": {},
   "outputs": [
    {
     "name": "stdout",
     "output_type": "stream",
     "text": [
      "1\n",
      "78\n"
     ]
    }
   ],
   "source": [
    "m = heapq.heappop(minH)      # pop from minheap\n",
    "print(m)\n",
    "\n",
    "m = heapq._heappop_max(maxH) # pop from maxheap\n",
    "print(m)"
   ]
  },
  {
   "cell_type": "markdown",
   "metadata": {},
   "source": [
    "----\n",
    "\n",
    "### Exercise: K-largest elements of a array\n",
    "\n",
    "We want to compute the K-largest elements of a array A. \n",
    "\n",
    "There are three possible algorithms to solve this problem:\n",
    "\n",
    "\n",
    "#### Algorithm 1: Sorting\n",
    "The easiest way to solve this is by sorting the array in decreasing order and reporting the first K elements. \n",
    "\n",
    "This algorithm costs $\\Theta(n\\log n)$ time. \n",
    "\n",
    "Implement this algorithm in a function ```k_largest_sort(A, K)```and test its correctness.\n",
    "\n",
    "#### Algorithm 2: QuickSelect\n",
    "Implement the QuickSelect algorithm and use it to find the K-largest element E in the array A. Then, scan A again \n",
    "to collect the K elements larger than or equal to E. Finally, sort the collected elements.\n",
    "\n",
    "This algorithm costs $\\Theta(n + K\\log K)$ time (in expectation). \n",
    "\n",
    "Implement this algorithm in a function ```k_largest_quickselect(A, K)```and test its correctness.\n",
    "\n",
    "\n",
    "#### Algorithm 3: Heap\n",
    "You have to implement the following faster algorithm as a function ```k_largest(A,K)```.\n",
    "- Scan the array from left to right and keep a min-heap. The min-heap will contain at most K elements.\n",
    "- Insert the current element into the heap, if the heap has less than K elements or the current element is larger than the minimum in the heap. If the heap has more than K elements, remove the minimum. \n",
    "- Sort the collected elements.\n",
    "\n",
    "This algorithm runs in $\\Theta(n\\log K)$ time.\n",
    "\n",
    "Implement this algorithm in a function ```k_largest_heap(A, K)```and test its correctness.\n",
    "\n",
    "\n",
    "**Compare the three solutions by varying the size of the array and the value K. Which one is the fastest?**"
   ]
  },
  {
   "cell_type": "code",
   "execution_count": 41,
   "metadata": {},
   "outputs": [],
   "source": [
    "## Your implementations goes here\n",
    "\n",
    "#1\n",
    "def k_largest_sort(A, K):\n",
    "    return sorted(list(A),reverse=True)[:10]\n",
    "\n",
    "\n",
    "#2\n",
    "def partition(A, low, high):\n",
    "\n",
    "    pivot = A[high]\n",
    "    i = low-1\n",
    "    for j in range(low, high):\n",
    "        if A[j] < pivot:\n",
    "            i += 1\n",
    "            A[i], A[j] =A[j], A[i]\n",
    "\n",
    "    A[i+1], A[high] = A[high], A[i+1]\n",
    "    return i+1\n",
    "\n",
    "def KLargest(A, K):\n",
    "    k = len(A) - K\n",
    "    low = 0\n",
    "    high = len(A) - 1\n",
    "    while True:\n",
    "        pi = partition(A, low, high)\n",
    "        if pi > k:\n",
    "            high = pi - 1\n",
    "            \n",
    "        elif pi < k:\n",
    "            # 下一轮在 [index + 1, right] 里找\n",
    "            low = pi + 1\n",
    "        else:\n",
    "            return A[pi]\n",
    "\n",
    "\n",
    "def k_largest_quickselect(A,K):\n",
    "    tmp=KLargest(A, K)\n",
    "    l=[]\n",
    "    for i in A:\n",
    "        if i>=tmp and len(l)<=K:\n",
    "            l.append(i)\n",
    "    return l\n",
    "\n",
    "\n",
    "\n",
    "#3\n",
    "import heapq\n",
    "def k_largest_heap(A, K):\n",
    "    H=[]\n",
    "    for i in A: \n",
    "        if len(H)<K:\n",
    "            heapq.heappush(H, i)\n",
    "            \n",
    "        else:\n",
    "            if i>H[0]:\n",
    "                heapq.heappop(H)\n",
    "                heapq.heappush(H, i)\n",
    "                \n",
    "    return H"
   ]
  },
  {
   "cell_type": "code",
   "execution_count": 42,
   "metadata": {},
   "outputs": [],
   "source": [
    "## test your implementation\n",
    "a = get_random_array(100, 10000)\n",
    "assert sorted(k_largest_sort(a, 10)) == sorted(a)[-10:], \"FAIL!\"  \n",
    "assert sorted(k_largest_quickselect(a, 10)) == sorted(a)[-10:], \"FAIL!\"  \n",
    "assert sorted(k_largest_heap(a, 10)) == sorted(a)[-10:], \"FAIL!\"  "
   ]
  },
  {
   "cell_type": "code",
   "execution_count": 40,
   "metadata": {},
   "outputs": [
    {
     "name": "stdout",
     "output_type": "stream",
     "text": [
      "8.87 ms ± 515 µs per loop (mean ± std. dev. of 7 runs, 100 loops each)\n",
      "46.6 ms ± 4.63 ms per loop (mean ± std. dev. of 7 runs, 10 loops each)\n",
      "15.4 ms ± 1.59 ms per loop (mean ± std. dev. of 7 runs, 100 loops each)\n"
     ]
    }
   ],
   "source": [
    "a = get_random_array(50000, 100)\n",
    "K = 10\n",
    "\n",
    "%timeit k_largest_sort(a, K)\n",
    "%timeit k_largest_quickselect(a, K)\n",
    "%timeit k_largest_heap(a, K)"
   ]
  },
  {
   "cell_type": "markdown",
   "metadata": {
    "slideshow": {
     "slide_type": "subslide"
    }
   },
   "source": [
    "---\n",
    "\n",
    "### Exercise: compute distinct elements\n",
    "You are given a list A of elements and you want to obtain the list of distict elements in A.\n",
    "\n",
    "There are two possible algorithms to do this:\n",
    "\n",
    "- Use ```list(set(A))```\n",
    "- Sort A and then scan. Implement this as a function ```distinct(A)``` \n",
    "\n",
    "Compare these two approaches by varying the size of the array and the number of distinct elements."
   ]
  },
  {
   "cell_type": "raw",
   "metadata": {},
   "source": [
    "A = [10, 2, 3, 3, 4, 3, 4]\n",
    "\n",
    "distict(A) = [10, 2, 3, 4]\n",
    "\n",
    "2, 3, 3, 3, 4, 4"
   ]
  },
  {
   "cell_type": "code",
   "execution_count": 16,
   "metadata": {},
   "outputs": [],
   "source": [
    "## Your implementation goes here\n",
    "\n",
    "import heapq\n",
    "def distinct(A):\n",
    "    l=A[:]\n",
    "    heapq.heapify(l)\n",
    "    l2=[]\n",
    "    for i in range(len(l)):\n",
    "        num=heapq.heappop(l)\n",
    "        if l2==[]:\n",
    "            l2.append(num)\n",
    "        else:\n",
    "            if l2[-1] != num:\n",
    "                l2.append(num)\n",
    "    return l2"
   ]
  },
  {
   "cell_type": "code",
   "execution_count": 17,
   "metadata": {},
   "outputs": [],
   "source": [
    "## test your implementation\n",
    "a = get_random_array(1000)\n",
    "\n",
    "assert distinct(a) == sorted(list(set(a))), \"FAIL!\""
   ]
  },
  {
   "cell_type": "markdown",
   "metadata": {},
   "source": [
    "## What's the fastest approach?"
   ]
  },
  {
   "cell_type": "code",
   "execution_count": 18,
   "metadata": {},
   "outputs": [
    {
     "name": "stdout",
     "output_type": "stream",
     "text": [
      "191 µs ± 11.5 µs per loop (mean ± std. dev. of 7 runs, 10000 loops each)\n",
      "8.16 ms ± 846 µs per loop (mean ± std. dev. of 7 runs, 100 loops each)\n"
     ]
    }
   ],
   "source": [
    "a = get_random_array(10000, 10)\n",
    "\n",
    "%timeit list(set(a))\n",
    "%timeit distinct(a)"
   ]
  },
  {
   "cell_type": "markdown",
   "metadata": {},
   "source": [
    "---\n",
    "\n",
    "### Exercise: Pareto frontier of a set of points in 2-D space (aka Skyline problem)\n",
    "We are given a set $S$ of $n$ 2D points.\n",
    "A point $(x,y)$ dominates a point $(x',y')$ iff $𝑥'\\leq 𝑥$ and $y'\\leq 𝑦$. \n",
    "Our goal is to find the set $P$ of dominating points in $S$. \n",
    "This corresponds to find the Pareto frontier (or, equivalently, the skyline). \n",
    "\n",
    "![alt text](skyline.png \"Example\")\n",
    "\n",
    "This problem has a lot of [applications](https://en.wikipedia.org/wiki/Multi-objective_optimization) (and [here](https://en.wikipedia.org/wiki/Pareto_efficiency)).\n",
    "\n",
    "The problem can be solved in $\\Theta(n\\log n)$ time.\n",
    "\n",
    "To find $P$ we need to sort points in $S$ by $x$ in descending order, \n",
    "and if $x$′𝑠 the same by $y$ in descending order. This takes $\\Theta(n\\log n)$ time. \n",
    "Then, we do the following.\n",
    "\n",
    "- Include first point in $P$ and remember this point as $𝑇$. \n",
    "- Iterates through the point (let $C$ current point):\n",
    "* if $C$ is dominated by $T$, then skip $C$ and go to next point;\n",
    "* Otherwise, include $C$ in $P$ and set $𝑇=𝐶$.\n",
    "\n",
    "This step can be performed in linear time.\n",
    "\n",
    "Implement the function ```pareto_frontier(S)```, which returns the pareto frontier $P$ of the points in $S$.\n"
   ]
  },
  {
   "cell_type": "code",
   "execution_count": 1,
   "metadata": {},
   "outputs": [],
   "source": [
    "## Your implementation goes here\n",
    "import heapq\n",
    "\n",
    "\n",
    "def takeFirst(elem):\n",
    "    return elem[0]\n",
    "\n",
    "def pareto_frontier(a):\n",
    "    H=a[:]\n",
    "    S=[]\n",
    "    heapq._heapify_max(H)\n",
    "    for i in range(len(H)):\n",
    "        S.append(heapq._heappop_max(H))\n",
    "    \n",
    "    P=[]\n",
    "    P.append(S[0])\n",
    "    for C in range(1,len(S)):\n",
    "        if (S[C][0]<= P[-1][0]) and (S[C][1] <= P[-1][1]):\n",
    "            continue\n",
    "        else:\n",
    "            P.append(S[C])\n",
    "    P.sort(key=takeFirst)\n",
    "    return(P)"
   ]
  },
  {
   "cell_type": "code",
   "execution_count": 20,
   "metadata": {},
   "outputs": [],
   "source": [
    "## Test your implementation here\n",
    "\n",
    "S = [(6, 7.5), (7, 8), (8, 7), (2, 9), (3, 9.5), (1, 10), (4, 9), (5, 8)]\n",
    "\n",
    "assert pareto_frontier(S) == [(1, 10), (3, 9.5), (4, 9), (7, 8), (8, 7)], \"Fail!\""
   ]
  }
 ],
 "metadata": {
  "kernelspec": {
   "display_name": "Python 3",
   "language": "python",
   "name": "python3"
  },
  "language_info": {
   "codemirror_mode": {
    "name": "ipython",
    "version": 3
   },
   "file_extension": ".py",
   "mimetype": "text/x-python",
   "name": "python",
   "nbconvert_exporter": "python",
   "pygments_lexer": "ipython3",
   "version": "3.8.5"
  },
  "latex_envs": {
   "LaTeX_envs_menu_present": true,
   "autoclose": false,
   "autocomplete": true,
   "bibliofile": "biblio.bib",
   "cite_by": "apalike",
   "current_citInitial": 1,
   "eqLabelWithNumbers": true,
   "eqNumInitial": 1,
   "hotkeys": {
    "equation": "Ctrl-E",
    "itemize": "Ctrl-I"
   },
   "labels_anchors": false,
   "latex_user_defs": false,
   "report_style_numbering": false,
   "user_envs_cfg": false
  },
  "varInspector": {
   "cols": {
    "lenName": 16,
    "lenType": 16,
    "lenVar": 40
   },
   "kernels_config": {
    "python": {
     "delete_cmd_postfix": "",
     "delete_cmd_prefix": "del ",
     "library": "var_list.py",
     "varRefreshCmd": "print(var_dic_list())"
    },
    "r": {
     "delete_cmd_postfix": ") ",
     "delete_cmd_prefix": "rm(",
     "library": "var_list.r",
     "varRefreshCmd": "cat(var_dic_list()) "
    }
   },
   "types_to_exclude": [
    "module",
    "function",
    "builtin_function_or_method",
    "instance",
    "_Feature"
   ],
   "window_display": false
  }
 },
 "nbformat": 4,
 "nbformat_minor": 4
}
