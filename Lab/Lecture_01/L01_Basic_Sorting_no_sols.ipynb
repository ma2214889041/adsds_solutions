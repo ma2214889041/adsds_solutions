{
 "cells": [
  {
   "cell_type": "markdown",
   "metadata": {},
   "source": [
    "## Basic sorting algorithms\n",
    "----"
   ]
  },
  {
   "cell_type": "markdown",
   "metadata": {},
   "source": [
    "### Exercise: Selection Sort\n",
    "Write the function ```SelectionSort(coll)``` that returns a sorted list with the elements in *coll*. \n",
    "You have to implements Selection Sort algorithm."
   ]
  },
  {
   "cell_type": "code",
   "execution_count": 5,
   "metadata": {},
   "outputs": [],
   "source": [
    "## Your implementation here!!!\n",
    "def SelectionSort(coll):\n",
    "    A=list(coll)\n",
    "    for i in range(len(A)):\n",
    "        tmp=i\n",
    "        for j in range(i+1,len(A)):\n",
    "            if A[j]<A[tmp]:\n",
    "                tmp=j\n",
    "        A[tmp],A[i]=A[i],A[tmp]\n",
    "    return A"
   ]
  },
  {
   "cell_type": "code",
   "execution_count": 6,
   "metadata": {},
   "outputs": [
    {
     "name": "stdout",
     "output_type": "stream",
     "text": [
      "[0, 1, 2, 3, 4, 5, 6, 7, 8, 9]\n"
     ]
    }
   ],
   "source": [
    "## Check correctdness your implementation!\n",
    "\n",
    "def test_sortedness(my_list):\n",
    "    return my_list == sorted(my_list)\n",
    "\n",
    "my_list = list(range(10))[::-1]\n",
    "\n",
    "print(SelectionSort(my_list))\n",
    "\n",
    "assert test_sortedness( SelectionSort(my_list) ), \"Must be increasing!\""
   ]
  },
  {
   "cell_type": "markdown",
   "metadata": {},
   "source": [
    "### Exercise: Insertion Sort\n",
    "Write the function ```InsertionSort(coll)``` that returns a sorted list with the elements in *coll*. \n",
    "You have to implements Insertion Sort algorithm."
   ]
  },
  {
   "cell_type": "code",
   "execution_count": 7,
   "metadata": {},
   "outputs": [],
   "source": [
    "## Your implementation here!!!\n",
    "def InsertionSort(coll):\n",
    "    A=list(coll)\n",
    "    for j in range(1,len(A)):\n",
    "        key=A[j]\n",
    "        i=j-1\n",
    "        while i>=0 and A[i]>key:\n",
    "            A[i+1]=A[i]\n",
    "            i-=1\n",
    "        A[i+1]=key\n",
    "    return A"
   ]
  },
  {
   "cell_type": "code",
   "execution_count": 8,
   "metadata": {},
   "outputs": [
    {
     "name": "stdout",
     "output_type": "stream",
     "text": [
      "[0, 1, 2, 3, 4, 5, 6, 7, 8, 9]\n"
     ]
    }
   ],
   "source": [
    "## Check correctdness your implementation!\n",
    "\n",
    "my_list = list(range(10))[::-1]\n",
    "\n",
    "print(InsertionSort(my_list))\n",
    "\n",
    "assert test_sortedness( InsertionSort(my_list) ), \"Must be increasing!\""
   ]
  },
  {
   "cell_type": "markdown",
   "metadata": {},
   "source": [
    "### Comparators\n",
    "\n",
    "You have learned that many sorting are based on comparison. \n",
    "They obtain a ordered sequence by comparing elements. \n",
    "\n",
    "It's often very useful to define our own way to compare elements. Any comparator that implies a total order \n",
    "is a good one. \n",
    "\n",
    "For example, assume you have a list of tuple. Each tuple stores information about a person. \n",
    "If you sort this list, the final ordering is *\"lexicographic\"* one. First we compare the first component, \n",
    "then the second component for tuples with the same first component, and so on.\n",
    " \n",
    "However, you may want impose your own way to order. For example, sort person by name, then increasingly by age, and so on. \n",
    "\n",
    "This is possible by implementing your own comparator and let ```.sort()``` and ```sorted()``` to use it."
   ]
  },
  {
   "cell_type": "markdown",
   "metadata": {},
   "source": [
    "### How? \n",
    "You know that comparison-based algorithms sort a sequence by comparing pairs of elements. \n",
    "Thus, a comparator is a function that takes two elements, say a and b, and compare them.\n",
    "\n",
    "The result of a comparison is a value smaller than $0$, if a must precede b in the ordering. \n",
    "The result is larger than $0$, if b must precede a. The result is $0$, if we do not care."
   ]
  },
  {
   "cell_type": "markdown",
   "metadata": {},
   "source": [
    "For example, we can use the following comparator to sort numbers in reverse order."
   ]
  },
  {
   "cell_type": "code",
   "execution_count": 9,
   "metadata": {},
   "outputs": [],
   "source": [
    "def my_cmp(a, b): \n",
    "    return b-a # a is before if larger that b"
   ]
  },
  {
   "cell_type": "markdown",
   "metadata": {},
   "source": [
    "To use our own comparator with ```.sort()``` and ```sorted()```, we have to use ```functools.cmp_to_key(cmp)```function. This converts our comparator to a function that can be used as a argument for parameter ```key```. \n"
   ]
  },
  {
   "cell_type": "code",
   "execution_count": 10,
   "metadata": {},
   "outputs": [
    {
     "name": "stdout",
     "output_type": "stream",
     "text": [
      "[9, 8, 7, 6, 5, 4, 3, 2, 1, 0]\n"
     ]
    }
   ],
   "source": [
    "import functools\n",
    "\n",
    "print( sorted(list(range(10)), key=functools.cmp_to_key(my_cmp)) )"
   ]
  },
  {
   "cell_type": "markdown",
   "metadata": {},
   "source": [
    "\n",
    "------\n",
    "### Exercise: Strange orderings\n",
    "Given a list, write and test comparators to obtain the following orderings:\n",
    "- Even number precede odd ones. Even numbers are sorted in non-decreasing  order while odd ones are sorted in non-increasing order.\n",
    "- Strings are sorted in non-increasing order based on their lengths. Strings having the same length are sorted in non-increasing lexicographic order. "
   ]
  },
  {
   "cell_type": "code",
   "execution_count": 11,
   "metadata": {},
   "outputs": [],
   "source": [
    "my_list = list(range(10))\n",
    "my_list2 = [\"a\", \"b\", \"aba\", \"cad\", \"zzzz\", \"aaaa\"]"
   ]
  },
  {
   "cell_type": "code",
   "execution_count": 12,
   "metadata": {},
   "outputs": [
    {
     "name": "stdout",
     "output_type": "stream",
     "text": [
      "[0, 2, 4, 6, 8, 9, 7, 5, 3, 1]\n",
      "['b', 'a', 'cad', 'aba', 'zzzz', 'aaaa']\n"
     ]
    }
   ],
   "source": [
    "## Your implementation here!!!\n",
    "def cmp1(a, b):\n",
    "    if a % 2 == 0:\n",
    "        if b % 2 == 0: \n",
    "            return a-b\n",
    "            #the same effect of \n",
    "            #if a < b:\n",
    "            #    return -1\n",
    "            #else:\n",
    "            #    return 1\n",
    "        else: \n",
    "            return -1\n",
    "    else:\n",
    "        if b % 2 == 0: \n",
    "            return 1\n",
    "        else: \n",
    "            return b-a\n",
    "            #the same effect of \n",
    "            #if a > b:\n",
    "            #    return -1\n",
    "            #else:\n",
    "            #    return 1\n",
    "        \n",
    "print( sorted(my_list, key = functools.cmp_to_key(cmp1)))\n",
    "\n",
    "\n",
    "def cmp2(a, b):\n",
    "    if len(a) != len(b):\n",
    "        return len(a)-len(b)\n",
    "    else:\n",
    "        if a < b:\n",
    "            return 1\n",
    "        else:\n",
    "            return -1\n",
    "\n",
    "print( sorted(my_list2, key = functools.cmp_to_key(cmp2)))"
   ]
  },
  {
   "cell_type": "markdown",
   "metadata": {},
   "source": [
    "### Exercise: Insertion Sort with a comparator\n",
    "Write the function ```InsertionSort(coll, cmp)``` that returns a sorted list with the elements in *coll* using \n",
    "```cmp```as a comparator."
   ]
  },
  {
   "cell_type": "code",
   "execution_count": 13,
   "metadata": {},
   "outputs": [],
   "source": [
    "## Your implementation here!!!\n",
    "def cmp1(a, b):\n",
    "    if a % 2 == 0:\n",
    "        if b % 2 == 0: \n",
    "            return a-b\n",
    "            #the same effect of \n",
    "            #if a < b:\n",
    "            #    return -1\n",
    "            #else:\n",
    "            #    return 1\n",
    "        else: \n",
    "            return -1\n",
    "    else:\n",
    "        if b % 2 == 0: \n",
    "            return 1\n",
    "        else: \n",
    "            return b-a\n",
    "            #the same effect of \n",
    "            #if a > b:\n",
    "            #    return -1\n",
    "            #else:\n",
    "            #    return 1\n",
    "\n",
    "def cmp2(a, b):\n",
    "    if len(a) != len(b):\n",
    "        return len(a)-len(b)\n",
    "    else:\n",
    "        if a < b:\n",
    "            return 1\n",
    "        else:\n",
    "            return -1\n",
    "\n",
    "            \n",
    "            \n",
    "\n",
    "def InsertionSort(A,cmp):\n",
    "    lis=A[:]\n",
    "    for j in range(1,len(lis)):\n",
    "        i=j-1\n",
    "        curr= A[j]\n",
    "        a=cmp(curr,lis[i])\n",
    "        while i>=0 and a<=0:\n",
    "            lis[i+1]=lis[i]\n",
    "            i-=1\n",
    "            a=cmp(curr,lis[i])\n",
    "        lis[i+1]= curr\n",
    "    return lis\n"
   ]
  },
  {
   "cell_type": "code",
   "execution_count": 14,
   "metadata": {},
   "outputs": [],
   "source": [
    "## Test here your implementation by using comparators from previous exercise.\n",
    "\n",
    "def test_sortedness(my_list, cmp):\n",
    "    return InsertionSort(my_list, cmp) == sorted(my_list, key = functools.cmp_to_key(cmp))\n",
    "\n",
    "assert test_sortedness(my_list, cmp1), \"Must be sorted\"\n",
    "assert test_sortedness(my_list2, cmp2), \"Must be sorted\""
   ]
  },
  {
   "cell_type": "markdown",
   "metadata": {},
   "source": [
    "-----\n",
    "\n",
    "### Exercise: Intersection of two lists\n",
    "Write a function ```intersection_slow(l1, l2)``` which returns the intersection of the two lists l1 and l2.\n",
    "\n",
    "Use the trivial algorithms that runs in $\\Theta(|l1|\\times|l2|)$. "
   ]
  },
  {
   "cell_type": "code",
   "execution_count": 15,
   "metadata": {},
   "outputs": [],
   "source": [
    "## Your implementation here!!!\n",
    "def intersection_slow(l1, l2):\n",
    "    l=[]\n",
    "    for i in l1:\n",
    "        if i in l2:\n",
    "           l.append(i) \n",
    "    return l\n"
   ]
  },
  {
   "cell_type": "code",
   "execution_count": 16,
   "metadata": {},
   "outputs": [],
   "source": [
    "## Test here your implementation \n",
    "\n",
    "l1 = [3, 5, 1, 2]\n",
    "l2 = [1, 4, 6, 2]\n",
    "\n",
    "assert set(intersection_slow(l1, l2)) == set([1, 2]), \"Urca\""
   ]
  },
  {
   "cell_type": "markdown",
   "metadata": {},
   "source": [
    "### Parallel loops VS sequential loops"
   ]
  },
  {
   "cell_type": "code",
   "execution_count": 13,
   "metadata": {},
   "outputs": [
    {
     "ename": "SyntaxError",
     "evalue": "invalid syntax (<ipython-input-13-cc629f0cdfc6>, line 3)",
     "output_type": "error",
     "traceback": [
      "\u001b[1;36m  File \u001b[1;32m\"<ipython-input-13-cc629f0cdfc6>\"\u001b[1;36m, line \u001b[1;32m3\u001b[0m\n\u001b[1;33m    for i: 1 to |l1|\u001b[0m\n\u001b[1;37m         ^\u001b[0m\n\u001b[1;31mSyntaxError\u001b[0m\u001b[1;31m:\u001b[0m invalid syntax\n"
     ]
    }
   ],
   "source": [
    "# Pseudo code\n",
    "\n",
    "for i: 1 to |l1|\n",
    "    for j: 1 to |l2|\n",
    "        do stuff\n",
    "        \n",
    "O(|l1|*|l2|) == O(n^2) == VERY BAD"
   ]
  },
  {
   "cell_type": "code",
   "execution_count": 14,
   "metadata": {},
   "outputs": [
    {
     "ename": "SyntaxError",
     "evalue": "invalid syntax (<ipython-input-14-026112c37f22>, line 3)",
     "output_type": "error",
     "traceback": [
      "\u001b[1;36m  File \u001b[1;32m\"<ipython-input-14-026112c37f22>\"\u001b[1;36m, line \u001b[1;32m3\u001b[0m\n\u001b[1;33m    for i: 1 to |l1|\u001b[0m\n\u001b[1;37m         ^\u001b[0m\n\u001b[1;31mSyntaxError\u001b[0m\u001b[1;31m:\u001b[0m invalid syntax\n"
     ]
    }
   ],
   "source": [
    "# Pseudo code\n",
    "\n",
    "for i: 1 to |l1|\n",
    "    do stuff\n",
    "    \n",
    "for j: 1 to |l2|\n",
    "     do stuff\n",
    "        \n",
    "O(|l1|+|l2|) == O(n) == VERY GOOD"
   ]
  },
  {
   "cell_type": "markdown",
   "metadata": {},
   "source": [
    "----\n",
    "### Exercise: Faster intersection of two lists\n",
    "Write a function ```intersection(l1, l2)``` which returns the intersection of the two lists l1 and l2.\n",
    "\n",
    "Assume that both l1 and l2 are sorted!"
   ]
  },
  {
   "cell_type": "code",
   "execution_count": 15,
   "metadata": {},
   "outputs": [],
   "source": [
    "## Your implementation here!!!\n",
    "\n",
    "def intersection(l1, l2):\n",
    "    l=[]\n",
    "    j=0\n",
    "    i=0\n",
    "    while i<len(l1) and j<len(l2):\n",
    "        if l1[i]==l2[j]:\n",
    "            l.append(l1[i])\n",
    "            i+=1\n",
    "            j+=1\n",
    "        elif l1[i]>l2[j]:\n",
    "            j+=1\n",
    "        else:\n",
    "            i+=1\n",
    "        \n",
    "    return l"
   ]
  },
  {
   "cell_type": "code",
   "execution_count": 16,
   "metadata": {},
   "outputs": [],
   "source": [
    "## Test here your implementation \n",
    "\n",
    "l1 = sorted([3, 5, 1, 2])\n",
    "l2 = sorted([1, 4, 6, 2])\n",
    "\n",
    "assert set(intersection(l1, l2)) == set([1, 2]), \"Urca\""
   ]
  },
  {
   "cell_type": "markdown",
   "metadata": {},
   "source": [
    "----\n",
    "### Exercise: You own search engine\n",
    "You are given a collection of texts and you want to build your own search engine, people at Google are already very scared!\n",
    "\n",
    "Modern search engines are based on a data structure called *Inverted Index*. \n",
    "\n",
    "Each document of the collection is assigned an identifier, starting from 0.\n",
    "An inverted index stores a list, called *inverted list*, for each term of the collection.\n",
    "The list for a term *t* contains the identifiers of all the documents containing term *t*. The list is sorted.\n",
    "\n",
    "For example,\n",
    "\n",
    "````\n",
    "C = [\"dog cat elephant monkey\",  \"dog lion tiger\", \"fish dog dog cat cow\"]\n",
    "\n",
    "````\n",
    "\n",
    "The list of term *cat* is [0,2], the list of *elephant* is [0].\n",
    "\n",
    "Given two terms, an AND query reports all the documents containing both terms. For example, \n",
    "*query(\"cat\", \"dog\"), the result is [0, 2].\n",
    "\n",
    "You goal is to implement a simple search engine. Do the following. \n",
    "\n",
    "- Given the collection, build a dictionary that maps each term to its inverted list. Observe that \n",
    "each document occurs at most once in each list. \n",
    "- Implement a function *query* which answers an AND query. "
   ]
  },
  {
   "cell_type": "code",
   "execution_count": 12,
   "metadata": {},
   "outputs": [],
   "source": [
    "## Your implementation here!!!\n",
    "\n",
    "def build_index(C):\n",
    "    index={}\n",
    "    for i in range(len(C)):\n",
    "        wor=C[i].split(\" \")\n",
    "        for j in wor:\n",
    "            if j not in index:\n",
    "                index[j]=[i]\n",
    "            else:\n",
    "                index[j].append(i)\n",
    "    return index\n",
    "\n",
    "\n",
    "def query(index, t1, t2):\n",
    "    l1=index[t1]\n",
    "    l2=index[t2]\n",
    "    l=[]\n",
    "    j=0\n",
    "    i=0\n",
    "    while i<len(l1) and j<len(l2):\n",
    "        if l1[i]==l2[j]:\n",
    "            l.append(l1[i])\n",
    "            i+=1\n",
    "            j+=1\n",
    "        elif l1[i]>l2[j]:\n",
    "            j+=1\n",
    "        else:\n",
    "            i+=1\n",
    "        \n",
    "    return l \n",
    "\n",
    "def function(C,t1, t2):\n",
    "    index = build_index(C)\n",
    "    return query(index,t1,t2 )\n",
    "    \n",
    "    "
   ]
  },
  {
   "cell_type": "code",
   "execution_count": 15,
   "metadata": {},
   "outputs": [],
   "source": [
    "## Test here your implementation \n",
    "\n",
    "C = [\"dog cat elephant monkey\",  \"dog lion tiger\", \"fish dog dog cat cow\"]\n",
    "\n",
    "assert function(C, \"cat\", \"dog\") == [0, 2], \"Urca\""
   ]
  }
 ],
 "metadata": {
  "kernelspec": {
   "display_name": "Python 3",
   "language": "python",
   "name": "python3"
  },
  "language_info": {
   "codemirror_mode": {
    "name": "ipython",
    "version": 3
   },
   "file_extension": ".py",
   "mimetype": "text/x-python",
   "name": "python",
   "nbconvert_exporter": "python",
   "pygments_lexer": "ipython3",
   "version": "3.8.5"
  }
 },
 "nbformat": 4,
 "nbformat_minor": 2
}
