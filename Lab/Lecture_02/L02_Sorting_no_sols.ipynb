{
 "cells": [
  {
   "cell_type": "markdown",
   "metadata": {},
   "source": [
    "## Advanced Sorting Algorithms: QuickSort and Merge Sort"
   ]
  },
  {
   "cell_type": "code",
   "execution_count": 23,
   "metadata": {},
   "outputs": [],
   "source": [
    "## Define some function useful for testing\n",
    "import random\n",
    "\n",
    "## generate an array of n random integers up to 10000\n",
    "def get_random_array(n):\n",
    "    return [random.randint(0, 10000) for _ in range(n)]\n",
    "\n",
    "def test_sorting_algorithm(algorithm):\n",
    "    for _ in range(100):\n",
    "        A = get_random_array(random.randint(0, 1000))\n",
    "        A_sorted = algorithm(A)\n",
    "        assert A_sorted == sorted(A), \"FAIL!\"\n",
    "        \n",
    "# testing testing function\n",
    "test_sorting_algorithm(sorted)"
   ]
  },
  {
   "cell_type": "markdown",
   "metadata": {},
   "source": [
    "## QuickSort \n",
    "\n",
    "Quicksort is a divide-and-conquer algorithm. It works by selecting a 'pivot' element from the array and partitioning the other elements into two sub-arrays, according to whether they are less than or greater than the pivot. The sub-arrays are then sorted recursively. This can be done **in-place**, requiring small additional amounts of memory to perform the sorting.\n",
    "\n",
    "Thus, the most important part of QuickSort is its partition algorithm. \n",
    "Given a pivot element, the partition algorithm splits a subarray into three parts.\n",
    "\n",
    "- Elements that are smaller than or equal to the pivot\n",
    "- The pivot\n",
    "- Elements that are greater than or equal to the pivot\n",
    "\n",
    "The algorithm works in-place, i.e., it performs the partition within the subarray itself without any extra space."
   ]
  },
  {
   "cell_type": "markdown",
   "metadata": {},
   "source": [
    "![alt text](partition_algorithm.png \"Partition: pseudocode\")"
   ]
  },
  {
   "cell_type": "markdown",
   "metadata": {},
   "source": [
    "![alt text](partition_figure.png \"Figure\")"
   ]
  },
  {
   "cell_type": "markdown",
   "metadata": {},
   "source": [
    "![alt text](partition_running_example.png \"Title\")"
   ]
  },
  {
   "cell_type": "markdown",
   "metadata": {},
   "source": [
    "### Exercise: Binary Vector\n",
    "You are given a binary vector, i.e., each element is either 0 or 1. Implements an easy variant of partition to sort the vector."
   ]
  },
  {
   "cell_type": "code",
   "execution_count": 24,
   "metadata": {},
   "outputs": [
    {
     "name": "stdout",
     "output_type": "stream",
     "text": [
      "[1, 0, 0, 0, 1, 0, 1, 0, 0, 1, 0, 1, 1, 0, 0, 0, 0, 1, 0, 1]\n"
     ]
    }
   ],
   "source": [
    "import random \n",
    "\n",
    "binary = [random.randint(0,1) for _ in range(20)]\n",
    "print(binary)"
   ]
  },
  {
   "cell_type": "code",
   "execution_count": 25,
   "metadata": {},
   "outputs": [
    {
     "data": {
      "text/plain": [
       "[0, 0, 0, 0, 0, 0, 0, 0, 0, 0, 0, 0, 1, 1, 1, 1, 1, 1, 1, 1]"
      ]
     },
     "execution_count": 25,
     "metadata": {},
     "output_type": "execute_result"
    }
   ],
   "source": [
    "## Your implementation here!!!\n",
    "def partition(A):\n",
    "    a=A[:]\n",
    "    i=-1\n",
    "    for j in range(len(a)):\n",
    "        if a[j]==0:\n",
    "            i+=1\n",
    "            a[i],a[j]=a[j],a[i]\n",
    "    return a\n",
    "\n",
    "partition(binary)"
   ]
  },
  {
   "cell_type": "markdown",
   "metadata": {},
   "source": [
    "### Exercise: QuickSort\n",
    "Below an implementation of QuickSort. \n",
    "\n",
    "In this exercise you have to:\n",
    "- Write detailed comments to describe crucial parts of the code below (to prove you have understand it)\n",
    "- Implement a random selection of the pivot element"
   ]
  },
  {
   "cell_type": "code",
   "execution_count": 30,
   "metadata": {},
   "outputs": [],
   "source": [
    "def partition(A, low, high): \n",
    "    rand=random.randint(low,high)     #生成(low,high)范围内的随机数\n",
    "    A[rand],A[high]=A[high],A[rand]   #交换随机位置的数和high位置的数字\n",
    "    pivot = A[high]                   # high 位置的数字 作为 pivot\n",
    "    i = low-1                         #i之前的数字小于pivot\n",
    "  \n",
    "    for j in range(low, high):        #j之后的数字未做过比较,i,j之间的数字>pivot\n",
    "        if A[j] <= pivot:             # 如果j位置的数字<=pivot则i+1,交换j位置的数字和i 位置的数字\n",
    "            i = i+1 \n",
    "            A[i], A[j] = A[j], A[i] \n",
    "\n",
    "            \n",
    "'''\n",
    "当其他位置的元素排列好,交换i+1 和 high位置的数字,\n",
    "确保i+1位置之前的都<=i+1位置的数字,\n",
    "之后位置的数字都>i+1位置的数字,并返回pivot的位置\n",
    "'''\n",
    "    A[i+1], A[high] = A[high], A[i+1]  \n",
    "    \n",
    "    return i+1"
   ]
  },
  {
   "cell_type": "code",
   "execution_count": 31,
   "metadata": {},
   "outputs": [],
   "source": [
    "def quickSort_rec(A, low, high):\n",
    "    if low < high:  #如果list中的数字多于1个\n",
    "        pi = partition(A, low, high)  #对low, high之间的数字根据pivot划分,返回pivot的位置\n",
    "        quickSort_rec(A, low, pi-1)   #对pivot 之前的list划分\n",
    "        quickSort_rec(A, pi+1, high)   #对pivot 之后的list划分"
   ]
  },
  {
   "cell_type": "code",
   "execution_count": 32,
   "metadata": {},
   "outputs": [],
   "source": [
    "def quickSort(B):\n",
    "    A = B[:] # Copy the array just because we decided to return a sorted copy of the original array \n",
    "    quickSort_rec(A, 0, len(A)-1)\n",
    "    return A"
   ]
  },
  {
   "cell_type": "code",
   "execution_count": 33,
   "metadata": {},
   "outputs": [
    {
     "data": {
      "text/plain": [
       "[1, 2, 3, 4, 5, 6, 7, 8, 9]"
      ]
     },
     "execution_count": 33,
     "metadata": {},
     "output_type": "execute_result"
    }
   ],
   "source": [
    "quickSort([9,8,7,6,5,4,3,2,1])"
   ]
  },
  {
   "cell_type": "code",
   "execution_count": 34,
   "metadata": {},
   "outputs": [
    {
     "data": {
      "text/plain": [
       "[1, 2, 3, 4]"
      ]
     },
     "execution_count": 34,
     "metadata": {},
     "output_type": "execute_result"
    }
   ],
   "source": [
    "quickSort([2, 1, 4, 3])"
   ]
  },
  {
   "cell_type": "code",
   "execution_count": 35,
   "metadata": {},
   "outputs": [],
   "source": [
    "test_sorting_algorithm(quickSort)"
   ]
  },
  {
   "cell_type": "markdown",
   "metadata": {},
   "source": [
    "## Let's do some experiments\n",
    "\n",
    "Is QuickSort faster than InsertionSort and SelectionSort in practice?"
   ]
  },
  {
   "cell_type": "code",
   "execution_count": null,
   "metadata": {},
   "outputs": [],
   "source": [
    "T(n) = T(n-1) + c*n\n",
    "\n",
    "Theta(n^2) worst case\n",
    "\n",
    "T(n) = 2T(n/2) + c*n \n",
    "\n",
    "Theta(n log n) best case"
   ]
  },
  {
   "cell_type": "code",
   "execution_count": 9,
   "metadata": {},
   "outputs": [],
   "source": [
    "def insertionSort(coll):\n",
    "    A = list(coll)\n",
    "    for i in range(1, len(A)):\n",
    "        curr = A[i]\n",
    "        j = i-1\n",
    "        while j >= 0 and curr < A[j]:\n",
    "            A[j+1] = A[j]\n",
    "            j -= 1\n",
    "        A[j+1] = curr\n",
    "    return A"
   ]
  },
  {
   "cell_type": "code",
   "execution_count": 10,
   "metadata": {},
   "outputs": [],
   "source": [
    "def selectionSort(coll):\n",
    "    A = list(coll)\n",
    "    for i in range(len(A)): \n",
    "        # Find the minimum element in remaining unsorted array \n",
    "        min_idx = i \n",
    "        for j in range(i+1, len(A)): \n",
    "            if A[min_idx] > A[j]: \n",
    "                min_idx = j \n",
    "\n",
    "        # Swap the found minimum element with  \n",
    "        # the first element         \n",
    "        A[i], A[min_idx] = A[min_idx], A[i]\n",
    "    return A"
   ]
  },
  {
   "cell_type": "code",
   "execution_count": 11,
   "metadata": {},
   "outputs": [],
   "source": [
    "A = get_random_array(1000)"
   ]
  },
  {
   "cell_type": "code",
   "execution_count": 12,
   "metadata": {},
   "outputs": [
    {
     "name": "stdout",
     "output_type": "stream",
     "text": [
      "4.53 ms ± 859 µs per loop (mean ± std. dev. of 7 runs, 100 loops each)\n"
     ]
    }
   ],
   "source": [
    "%timeit quickSort(A)"
   ]
  },
  {
   "cell_type": "code",
   "execution_count": 13,
   "metadata": {},
   "outputs": [
    {
     "name": "stdout",
     "output_type": "stream",
     "text": [
      "119 ms ± 11.6 ms per loop (mean ± std. dev. of 7 runs, 10 loops each)\n"
     ]
    }
   ],
   "source": [
    "%timeit insertionSort(A)"
   ]
  },
  {
   "cell_type": "code",
   "execution_count": 14,
   "metadata": {},
   "outputs": [
    {
     "name": "stdout",
     "output_type": "stream",
     "text": [
      "84.2 ms ± 8.32 ms per loop (mean ± std. dev. of 7 runs, 10 loops each)\n"
     ]
    }
   ],
   "source": [
    "%timeit selectionSort(A)"
   ]
  },
  {
   "cell_type": "markdown",
   "metadata": {},
   "source": [
    "### More than 20x faster with arrays of length 1000. \n",
    "\n",
    "Try to run the experiments with an array of 10000. **Run insertion sort and selection sort just before you go to sleep.** "
   ]
  },
  {
   "cell_type": "markdown",
   "metadata": {},
   "source": [
    "### Let's see how time changes by increasing the length of the array"
   ]
  },
  {
   "cell_type": "code",
   "execution_count": 15,
   "metadata": {},
   "outputs": [
    {
     "name": "stdout",
     "output_type": "stream",
     "text": [
      "2.94 µs ± 408 ns per loop (mean ± std. dev. of 7 runs, 100000 loops each)\n",
      "1.93 µs ± 188 ns per loop (mean ± std. dev. of 7 runs, 1000000 loops each)\n",
      "2.84 µs ± 288 ns per loop (mean ± std. dev. of 7 runs, 100000 loops each)\n",
      "6.03 µs ± 1.05 µs per loop (mean ± std. dev. of 7 runs, 100000 loops each)\n",
      "3.23 µs ± 376 ns per loop (mean ± std. dev. of 7 runs, 100000 loops each)\n",
      "6.42 µs ± 774 ns per loop (mean ± std. dev. of 7 runs, 100000 loops each)\n",
      "21.5 µs ± 3.78 µs per loop (mean ± std. dev. of 7 runs, 10000 loops each)\n",
      "11.2 µs ± 1.6 µs per loop (mean ± std. dev. of 7 runs, 100000 loops each)\n",
      "12 µs ± 262 ns per loop (mean ± std. dev. of 7 runs, 100000 loops each)\n",
      "36.4 µs ± 1.89 µs per loop (mean ± std. dev. of 7 runs, 10000 loops each)\n",
      "30.9 µs ± 5.21 µs per loop (mean ± std. dev. of 7 runs, 10000 loops each)\n",
      "35.3 µs ± 2.12 µs per loop (mean ± std. dev. of 7 runs, 10000 loops each)\n",
      "90.9 µs ± 9.51 µs per loop (mean ± std. dev. of 7 runs, 10000 loops each)\n",
      "126 µs ± 13.5 µs per loop (mean ± std. dev. of 7 runs, 10000 loops each)\n",
      "114 µs ± 19.6 µs per loop (mean ± std. dev. of 7 runs, 10000 loops each)\n",
      "175 µs ± 14.5 µs per loop (mean ± std. dev. of 7 runs, 10000 loops each)\n",
      "528 µs ± 29.3 µs per loop (mean ± std. dev. of 7 runs, 1000 loops each)\n",
      "369 µs ± 26.5 µs per loop (mean ± std. dev. of 7 runs, 1000 loops each)\n",
      "395 µs ± 32 µs per loop (mean ± std. dev. of 7 runs, 1000 loops each)\n",
      "1.81 ms ± 220 µs per loop (mean ± std. dev. of 7 runs, 100 loops each)\n",
      "1.42 ms ± 150 µs per loop (mean ± std. dev. of 7 runs, 1000 loops each)\n",
      "1.16 ms ± 112 µs per loop (mean ± std. dev. of 7 runs, 1000 loops each)\n",
      "7.94 ms ± 969 µs per loop (mean ± std. dev. of 7 runs, 100 loops each)\n",
      "4.82 ms ± 200 µs per loop (mean ± std. dev. of 7 runs, 100 loops each)\n",
      "2.61 ms ± 500 µs per loop (mean ± std. dev. of 7 runs, 100 loops each)\n",
      "37.8 ms ± 2.47 ms per loop (mean ± std. dev. of 7 runs, 10 loops each)\n",
      "22.6 ms ± 1.56 ms per loop (mean ± std. dev. of 7 runs, 100 loops each)\n",
      "4.01 ms ± 98.4 µs per loop (mean ± std. dev. of 7 runs, 100 loops each)\n",
      "122 ms ± 7.38 ms per loop (mean ± std. dev. of 7 runs, 10 loops each)\n",
      "92.9 ms ± 5.07 ms per loop (mean ± std. dev. of 7 runs, 10 loops each)\n"
     ]
    }
   ],
   "source": [
    "qs_t = []\n",
    "is_t = []\n",
    "ss_t = []\n",
    "\n",
    "lens = [2**i for i in range(1, 11)]\n",
    "\n",
    "for n in lens:\n",
    "    A = get_random_array(n)\n",
    "    result = %timeit -o quickSort(A)\n",
    "    qs_t.append( result.best )\n",
    "    result = %timeit -o insertionSort(A)\n",
    "    is_t.append( result.best )\n",
    "    result = %timeit -o selectionSort(A)\n",
    "    ss_t.append( result.best )"
   ]
  },
  {
   "cell_type": "code",
   "execution_count": 16,
   "metadata": {},
   "outputs": [
    {
     "name": "stderr",
     "output_type": "stream",
     "text": [
      "UsageError: unrecognized arguments: # any cell within the notebook that creates a plot will embed a PNG image of the resulting graphic\n"
     ]
    }
   ],
   "source": [
    "import matplotlib.pyplot as plt # standard way to import\n",
    "\n",
    "%matplotlib inline # any cell within the notebook that creates a plot will embed a PNG image of the resulting graphic\n",
    "plt.rcParams[\"figure.figsize\"] = (20,10)\n",
    "plt.style.use('ggplot')"
   ]
  },
  {
   "cell_type": "code",
   "execution_count": 17,
   "metadata": {},
   "outputs": [
    {
     "data": {
      "image/png": "[encoded data removed]",
      "text/plain": [
       "<Figure size 432x288 with 1 Axes>"
      ]
     },
     "metadata": {
      "needs_background": "light"
     },
     "output_type": "display_data"
    }
   ],
   "source": [
    "fig = plt.figure()\n",
    "ax = fig.add_subplot(1, 1, 1)\n",
    "\n",
    "ax.plot(lens, qs_t, \"g--\", label=\"QuickSort\")\n",
    "ax.plot(lens, is_t, \"r--\", label=\"InsertionSort\")\n",
    "ax.plot(lens, ss_t, \"b--\", label=\"SelectionSort\")\n",
    "\n",
    "_ = ax.legend(loc=\"best\")"
   ]
  },
  {
   "cell_type": "markdown",
   "metadata": {},
   "source": [
    "## Merge Sort\n",
    "Merge Sort is an efficient, general-purpose, comparison-based sorting algorithm. Most implementations produce a **stable sort**, which means that the order of equal elements is the same in the input and output. \n",
    "\n",
    "Merge sort is a divide and conquer algorithm that was invented by John von Neumann in 1945.\n",
    "\n",
    "Below a running example."
   ]
  },
  {
   "cell_type": "markdown",
   "metadata": {},
   "source": [
    "![alt text](mergesort_figure.png \"Title\")"
   ]
  },
  {
   "cell_type": "markdown",
   "metadata": {},
   "source": [
    "### Exercise: Merge Sort\n",
    "Complete the implementation of Merge Sort by implementing function ```merge()```."
   ]
  },
  {
   "cell_type": "code",
   "execution_count": 18,
   "metadata": {},
   "outputs": [],
   "source": [
    "## Your implementation goes here\n",
    "\n",
    "def merge(A, l, m, r): \n",
    "  ## TODO\n",
    "    L=A[l:m+1]\n",
    "    R=A[m+1:r+1]\n",
    "    \n",
    "    i=0\n",
    "    j=0\n",
    "    k=l\n",
    "    \n",
    "    while i<len(L) and j<len(R):\n",
    "        if L[i]<R[j]:\n",
    "            A[k]=L[i]\n",
    "            i+=1\n",
    "        else:\n",
    "            A[k]=R[j]\n",
    "            j+=1\n",
    "        k+=1\n",
    "    while i<len(L):\n",
    "        A[k]=L[i]\n",
    "        k+=1\n",
    "        i+=1\n",
    "    while j<len(R):\n",
    "        A[k]=R[j]\n",
    "        k+=1\n",
    "        j+=1\n",
    "        \n",
    "        \n",
    "        "
   ]
  },
  {
   "cell_type": "code",
   "execution_count": 19,
   "metadata": {},
   "outputs": [],
   "source": [
    "def mergeSort_rec(A, l, r): \n",
    "    \n",
    "    if l < r:       \n",
    "        m = (l+(r-1))//2  # Same as (l+r)//2, but avoids overflow for large l and h \n",
    "    \n",
    "        # Sort first and second halves \n",
    "        mergeSort_rec(A, l, m) \n",
    "        mergeSort_rec(A, m+1, r) \n",
    "        merge(A, l, m, r)"
   ]
  },
  {
   "cell_type": "code",
   "execution_count": 20,
   "metadata": {},
   "outputs": [],
   "source": [
    "def mergeSort(B):\n",
    "    A = B[:] # Copy the array just because we decided to return a sorted copy of the original array \n",
    "    mergeSort_rec(A, 0, len(A))\n",
    "    return A"
   ]
  },
  {
   "cell_type": "code",
   "execution_count": 21,
   "metadata": {},
   "outputs": [
    {
     "ename": "NameError",
     "evalue": "name 'test_sorting_algorithm' is not defined",
     "output_type": "error",
     "traceback": [
      "\u001b[1;31m---------------------------------------------------------------------------\u001b[0m",
      "\u001b[1;31mNameError\u001b[0m                                 Traceback (most recent call last)",
      "\u001b[1;32m<ipython-input-21-fc08ed919c89>\u001b[0m in \u001b[0;36m<module>\u001b[1;34m\u001b[0m\n\u001b[1;32m----> 1\u001b[1;33m \u001b[0mtest_sorting_algorithm\u001b[0m\u001b[1;33m(\u001b[0m\u001b[0mmergeSort\u001b[0m\u001b[1;33m)\u001b[0m\u001b[1;33m\u001b[0m\u001b[1;33m\u001b[0m\u001b[0m\n\u001b[0m",
      "\u001b[1;31mNameError\u001b[0m: name 'test_sorting_algorithm' is not defined"
     ]
    }
   ],
   "source": [
    "test_sorting_algorithm(mergeSort)"
   ]
  },
  {
   "cell_type": "code",
   "execution_count": 22,
   "metadata": {},
   "outputs": [
    {
     "ename": "NameError",
     "evalue": "name 'get_random_array' is not defined",
     "output_type": "error",
     "traceback": [
      "\u001b[1;31m---------------------------------------------------------------------------\u001b[0m",
      "\u001b[1;31mNameError\u001b[0m                                 Traceback (most recent call last)",
      "\u001b[1;32m<ipython-input-22-6bd5fb48272b>\u001b[0m in \u001b[0;36m<module>\u001b[1;34m\u001b[0m\n\u001b[1;32m----> 1\u001b[1;33m \u001b[0mA\u001b[0m \u001b[1;33m=\u001b[0m \u001b[0mget_random_array\u001b[0m\u001b[1;33m(\u001b[0m\u001b[1;36m10000\u001b[0m\u001b[1;33m)\u001b[0m\u001b[1;33m\u001b[0m\u001b[1;33m\u001b[0m\u001b[0m\n\u001b[0m",
      "\u001b[1;31mNameError\u001b[0m: name 'get_random_array' is not defined"
     ]
    }
   ],
   "source": [
    "A = get_random_array(10000)"
   ]
  },
  {
   "cell_type": "code",
   "execution_count": 23,
   "metadata": {},
   "outputs": [
    {
     "name": "stdout",
     "output_type": "stream",
     "text": [
      "65.7 ms ± 10.8 ms per loop (mean ± std. dev. of 7 runs, 10 loops each)\n"
     ]
    }
   ],
   "source": [
    "%timeit quickSort(A)"
   ]
  },
  {
   "cell_type": "code",
   "execution_count": 24,
   "metadata": {},
   "outputs": [
    {
     "name": "stdout",
     "output_type": "stream",
     "text": [
      "111 ms ± 7.27 ms per loop (mean ± std. dev. of 7 runs, 10 loops each)\n"
     ]
    }
   ],
   "source": [
    "%timeit mergeSort(A)"
   ]
  },
  {
   "cell_type": "code",
   "execution_count": null,
   "metadata": {},
   "outputs": [],
   "source": [
    "B B B | G G G | G G G | B B B\n",
    "\n",
    "B B | G G G |                   G G G | B B B "
   ]
  }
 ],
 "metadata": {
  "kernelspec": {
   "display_name": "Python 3",
   "language": "python",
   "name": "python3"
  },
  "language_info": {
   "codemirror_mode": {
    "name": "ipython",
    "version": 3
   },
   "file_extension": ".py",
   "mimetype": "text/x-python",
   "name": "python",
   "nbconvert_exporter": "python",
   "pygments_lexer": "ipython3",
   "version": "3.8.5"
  },
  "latex_envs": {
   "LaTeX_envs_menu_present": true,
   "autoclose": false,
   "autocomplete": true,
   "bibliofile": "biblio.bib",
   "cite_by": "apalike",
   "current_citInitial": 1,
   "eqLabelWithNumbers": true,
   "eqNumInitial": 1,
   "hotkeys": {
    "equation": "Ctrl-E",
    "itemize": "Ctrl-I"
   },
   "labels_anchors": false,
   "latex_user_defs": false,
   "report_style_numbering": false,
   "user_envs_cfg": false
  },
  "varInspector": {
   "cols": {
    "lenName": 16,
    "lenType": 16,
    "lenVar": 40
   },
   "kernels_config": {
    "python": {
     "delete_cmd_postfix": "",
     "delete_cmd_prefix": "del ",
     "library": "var_list.py",
     "varRefreshCmd": "print(var_dic_list())"
    },
    "r": {
     "delete_cmd_postfix": ") ",
     "delete_cmd_prefix": "rm(",
     "library": "var_list.r",
     "varRefreshCmd": "cat(var_dic_list()) "
    }
   },
   "types_to_exclude": [
    "module",
    "function",
    "builtin_function_or_method",
    "instance",
    "_Feature"
   ],
   "window_display": false
  }
 },
 "nbformat": 4,
 "nbformat_minor": 4
}
